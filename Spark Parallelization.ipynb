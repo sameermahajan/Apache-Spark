{
 "cells": [
  {
   "cell_type": "markdown",
   "metadata": {},
   "source": [
    "## using parallelize"
   ]
  },
  {
   "cell_type": "code",
   "execution_count": null,
   "metadata": {},
   "outputs": [],
   "source": [
    "tasks = []\n",
    "for manufacturer in manufacturers:\n",
    "    for gender in genders:\n",
    "        for speech_task in speech_tasks:\n",
    "            for lower_threshold in lower_thresholds:\n",
    "                for higher_threshold in higher_thresholds:            \n",
    "                    tasks = tasks + [(manufacturer, gender, speech_task, lower_threshold, higher_threshold)]\n",
    "                    \n",
    "tasksRDD = sc.parallelize(tasks, numSlices = len(tasks))\n",
    "\n",
    "cfc = tasksRDD.map(lambda alpha: compute_ML_grid_for_a_cohort(alpha[0], alpha[1], alpha[2], alpha[3], alpha[4]))\n",
    "cfc.cache()\n",
    "cfc.count()"
   ]
  },
  {
   "cell_type": "markdown",
   "metadata": {},
   "source": [
    "## using python threads for parallelization"
   ]
  },
  {
   "cell_type": "code",
   "execution_count": null,
   "metadata": {},
   "outputs": [],
   "source": [
    "from threading import Thread\n",
    "num_cohorts = len(manufacturers) * len(genders) * len(speech_tasks) * len(lower_thresholds) * len(higher_thresholds)\n",
    "tasks = [None] * num_cohorts\n",
    "results = [None] * num_cohorts\n",
    "  \n",
    "i = 0\n",
    "for manufacturer in manufacturers:\n",
    "    for gender in genders:\n",
    "        for speech_task in speech_tasks:\n",
    "            for lower_threshold in lower_thresholds:\n",
    "                for higher_threshold in higher_thresholds:            \n",
    "                    tasks[i] = Thread(target=compute_ML_grid_for_a_cohort, \n",
    "                                      args=(manufacturer, gender, speech_task, lower_threshold, higher_threshold, results, i))\n",
    "                    tasks[i].start()\n",
    "                    i += 1\n",
    "                    \n",
    "for i in range(len(tasks)):\n",
    "    tasks[i].join()\n",
    "    print 'results[' +str(i) + '] = ' + str(results[i])"
   ]
  }
 ],
 "metadata": {
  "kernelspec": {
   "display_name": "Python 2",
   "language": "python",
   "name": "python2"
  },
  "language_info": {
   "codemirror_mode": {
    "name": "ipython",
    "version": 2
   },
   "file_extension": ".py",
   "mimetype": "text/x-python",
   "name": "python",
   "nbconvert_exporter": "python",
   "pygments_lexer": "ipython2",
   "version": "2.7.12"
  }
 },
 "nbformat": 4,
 "nbformat_minor": 2
}
