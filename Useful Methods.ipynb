{
 "cells": [
  {
   "cell_type": "markdown",
   "metadata": {},
   "source": [
    "## Some useful methods in spark"
   ]
  },
  {
   "cell_type": "markdown",
   "metadata": {},
   "source": [
    "### Append rowid as an additional column to df"
   ]
  },
  {
   "cell_type": "code",
   "execution_count": null,
   "metadata": {},
   "outputs": [],
   "source": [
    "def get_df_with_rowid(df):\n",
    "    from pyspark.sql import Row\n",
    "    from pyspark.sql.types import StructField, StructType, LongType\n",
    "\n",
    "    row_with_index = Row(*[\"id\"] + df.columns)\n",
    "\n",
    "    def make_row(columns):\n",
    "        def _make_row(row, uid):\n",
    "            row_dict = row.asDict()\n",
    "            return row_with_index(*[uid] + [row_dict.get(c) for c in columns])\n",
    "        return _make_row\n",
    "\n",
    "    f = make_row(df.columns)\n",
    "\n",
    "    df_with_rowid = (df.rdd\n",
    "      .zipWithIndex ()\n",
    "      .map(lambda x: f(*x))\n",
    "      .toDF(StructType([StructField(\"id\", LongType(), False)] + df.schema.fields)))\n",
    "    return df_with_rowid"
   ]
  }
 ],
 "metadata": {
  "kernelspec": {
   "display_name": "Python 2",
   "language": "python",
   "name": "python2"
  },
  "language_info": {
   "codemirror_mode": {
    "name": "ipython",
    "version": 2
   },
   "file_extension": ".py",
   "mimetype": "text/x-python",
   "name": "python",
   "nbconvert_exporter": "python",
   "pygments_lexer": "ipython2",
   "version": "2.7.12"
  }
 },
 "nbformat": 4,
 "nbformat_minor": 2
}
